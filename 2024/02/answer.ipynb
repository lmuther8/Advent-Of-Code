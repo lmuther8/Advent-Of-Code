{
 "cells": [
  {
   "cell_type": "markdown",
   "metadata": {},
   "source": [
    "# Part 1"
   ]
  },
  {
   "cell_type": "code",
   "execution_count": 133,
   "metadata": {},
   "outputs": [],
   "source": [
    "import csv"
   ]
  },
  {
   "cell_type": "code",
   "execution_count": 134,
   "metadata": {},
   "outputs": [],
   "source": [
    "reports = []\n",
    "\n",
    "with open('input.txt') as f:\n",
    "    reader = csv.reader(f, delimiter=' ')\n",
    "\n",
    "    for report in reader:\n",
    "        reports.append(list(int(r) for r in report))"
   ]
  },
  {
   "cell_type": "code",
   "execution_count": 135,
   "metadata": {},
   "outputs": [
    {
     "data": {
      "text/plain": [
       "402"
      ]
     },
     "execution_count": 135,
     "metadata": {},
     "output_type": "execute_result"
    }
   ],
   "source": [
    "safe_reports = []\n",
    "\n",
    "def test_report(report, attempt = 1):\n",
    "    dif = [report[i] - report[i+1] for i in range(len(report) - 1)]\n",
    "\n",
    "    return all([d in (1, 2 ,3) for d in dif]) or all([d in (-1, -2 ,-3) for d in dif])\n",
    "\n",
    "    return 1\n",
    "\n",
    "for report in reports:\n",
    "    safe_reports.append(test_report(report))\n",
    "\n",
    "sum(safe_reports)"
   ]
  },
  {
   "cell_type": "markdown",
   "metadata": {},
   "source": [
    "# Part 2"
   ]
  },
  {
   "cell_type": "code",
   "execution_count": 136,
   "metadata": {},
   "outputs": [
    {
     "data": {
      "text/plain": [
       "455"
      ]
     },
     "execution_count": 136,
     "metadata": {},
     "output_type": "execute_result"
    }
   ],
   "source": [
    "safe_reports_2 = []\n",
    "\n",
    "for report in reports:\n",
    "    subtests = []\n",
    "    for i in range(len(report)):\n",
    "        subtests.append(test_report(report[:i] + report[i+1:]))\n",
    "\n",
    "    safe_reports_2.append(max(subtests))\n",
    "\n",
    "sum(safe_reports_2)"
   ]
  }
 ],
 "metadata": {
  "kernelspec": {
   "display_name": ".venv",
   "language": "python",
   "name": "python3"
  },
  "language_info": {
   "codemirror_mode": {
    "name": "ipython",
    "version": 3
   },
   "file_extension": ".py",
   "mimetype": "text/x-python",
   "name": "python",
   "nbconvert_exporter": "python",
   "pygments_lexer": "ipython3",
   "version": "3.11.9"
  }
 },
 "nbformat": 4,
 "nbformat_minor": 2
}
